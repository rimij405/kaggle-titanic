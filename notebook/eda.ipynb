{
 "cells": [
  {
   "cell_type": "code",
   "execution_count": 1,
   "metadata": {},
   "outputs": [],
   "source": [
    "# This Source Code Form is subject to the terms of the Mozilla Public\n",
    "# License, v. 2.0. If a copy of the MPL was not distributed with this\n",
    "# file, You can obtain one at https://mozilla.org/MPL/2.0/."
   ]
  },
  {
   "source": [
    "# Exploratory Data Analysis\n",
    "\n",
    "In this notebook, we take a look at the data inside the [training dataset](../data/train.csv) provided by Kaggle."
   ],
   "cell_type": "markdown",
   "metadata": {}
  },
  {
   "cell_type": "code",
   "execution_count": 2,
   "id": "commercial-seattle",
   "metadata": {},
   "outputs": [
    {
     "output_type": "stream",
     "name": "stdout",
     "text": [
      "a:\\Library\\My Repositories\\kaggle\\kaggle-titanic\n"
     ]
    }
   ],
   "source": [
    "cd .."
   ]
  },
  {
   "cell_type": "code",
   "execution_count": 3,
   "metadata": {},
   "outputs": [],
   "source": [
    "import pandas as pd\n",
    "import numpy as np\n",
    "import matplotlib.pyplot as plt\n",
    "\n",
    "train_data = pd.read_csv(\"data/train.csv\")"
   ]
  },
  {
   "cell_type": "code",
   "execution_count": 4,
   "metadata": {},
   "outputs": [
    {
     "output_type": "stream",
     "name": "stdout",
     "text": [
      "<class 'pandas.core.frame.DataFrame'>\nRangeIndex: 891 entries, 0 to 890\nData columns (total 12 columns):\n #   Column       Non-Null Count  Dtype  \n---  ------       --------------  -----  \n 0   PassengerId  891 non-null    int64  \n 1   Survived     891 non-null    int64  \n 2   Pclass       891 non-null    int64  \n 3   Name         891 non-null    object \n 4   Sex          891 non-null    object \n 5   Age          714 non-null    float64\n 6   SibSp        891 non-null    int64  \n 7   Parch        891 non-null    int64  \n 8   Ticket       891 non-null    object \n 9   Fare         891 non-null    float64\n 10  Cabin        204 non-null    object \n 11  Embarked     889 non-null    object \ndtypes: float64(2), int64(5), object(5)\nmemory usage: 83.7+ KB\n"
     ]
    }
   ],
   "source": [
    "train_data.info()"
   ]
  },
  {
   "source": [
    "# Feature selection here, and output it.\n",
    "\n",
    "# Selected features\n",
    "features = ['Pclass', 'Sex', 'Age', 'SibSp', 'Parch', 'Fare', 'Cabin']\n",
    "\n",
    "# Target\n",
    "label = 'Survived'\n",
    "\n",
    "# Extract data.\n",
    "X = train_data.loc[:,features]\n",
    "y = train_data.loc[:,label]\n",
    "\n",
    "X.info()"
   ],
   "cell_type": "code",
   "metadata": {},
   "execution_count": 5,
   "outputs": [
    {
     "output_type": "stream",
     "name": "stdout",
     "text": [
      "<class 'pandas.core.frame.DataFrame'>\nRangeIndex: 891 entries, 0 to 890\nData columns (total 7 columns):\n #   Column  Non-Null Count  Dtype  \n---  ------  --------------  -----  \n 0   Pclass  891 non-null    int64  \n 1   Sex     891 non-null    object \n 2   Age     714 non-null    float64\n 3   SibSp   891 non-null    int64  \n 4   Parch   891 non-null    int64  \n 5   Fare    891 non-null    float64\n 6   Cabin   204 non-null    object \ndtypes: float64(2), int64(3), object(2)\nmemory usage: 48.9+ KB\n"
     ]
    }
   ]
  },
  {
   "cell_type": "code",
   "execution_count": 6,
   "metadata": {},
   "outputs": [
    {
     "output_type": "stream",
     "name": "stdout",
     "text": [
      "Pclass \n--\n 0      3\n1      1\n2      3\n3      1\n4      3\n      ..\n886    2\n887    1\n888    3\n889    1\n890    3\nName: Pclass, Length: 891, dtype: int64 \n\nSex \n--\n 0        male\n1      female\n2      female\n3      female\n4        male\n        ...  \n886      male\n887    female\n888    female\n889      male\n890      male\nName: Sex, Length: 891, dtype: object \n\nAge \n--\n 0      22.0\n1      38.0\n2      26.0\n3      35.0\n4      35.0\n       ... \n886    27.0\n887    19.0\n888     NaN\n889    26.0\n890    32.0\nName: Age, Length: 891, dtype: float64 \n\nSibSp \n--\n 0      1\n1      1\n2      0\n3      1\n4      0\n      ..\n886    0\n887    0\n888    1\n889    0\n890    0\nName: SibSp, Length: 891, dtype: int64 \n\nParch \n--\n 0      0\n1      0\n2      0\n3      0\n4      0\n      ..\n886    0\n887    0\n888    2\n889    0\n890    0\nName: Parch, Length: 891, dtype: int64 \n\nFare \n--\n 0       7.2500\n1      71.2833\n2       7.9250\n3      53.1000\n4       8.0500\n        ...   \n886    13.0000\n887    30.0000\n888    23.4500\n889    30.0000\n890     7.7500\nName: Fare, Length: 891, dtype: float64 \n\nCabin \n--\n 0       NaN\n1       C85\n2       NaN\n3      C123\n4       NaN\n       ... \n886     NaN\n887     B42\n888     NaN\n889    C148\n890     NaN\nName: Cabin, Length: 891, dtype: object \n\n"
     ]
    }
   ],
   "source": [
    "for feature in X:\n",
    "    print(feature,\"\\n--\\n\",X[feature],\"\\n\")"
   ]
  },
  {
   "source": [
    "# Data Preparation\n",
    "\n",
    "- Need to clean Sex, Age, and Cabin.\n",
    "\n",
    "Sex\n",
    "- Encode into 0(M) and 1(F).\n",
    "- Convert dtype to int64\n",
    "\n",
    "Age\n",
    "- Impute missing values.\n",
    "- Convert dtype to int64.\n",
    "\n",
    "Cabin\n",
    "- Convert into string\n",
    "- Split into room numbers and decks.\n",
    "- Letter corresponds to decks.\n",
    "\n",
    "Assign randomly to empty slots with probability weights determined by P(Cabin).\n",
    "\n",
    "1. Cluster analysis on all features except Cabin. Output: k-clusters\n",
    "\n",
    "2. Add new classification feature \"k-cluster\" from previous analysis.\n",
    "\n",
    "3. \n",
    "\n"
   ],
   "cell_type": "markdown",
   "metadata": {}
  }
 ],
 "metadata": {
  "kernelspec": {
   "display_name": "Python 3",
   "language": "python",
   "name": "python3"
  },
  "language_info": {
   "codemirror_mode": {
    "name": "ipython",
    "version": 3
   },
   "file_extension": ".py",
   "mimetype": "text/x-python",
   "name": "python",
   "nbconvert_exporter": "python",
   "pygments_lexer": "ipython3",
   "version": "3.8.5"
  }
 },
 "nbformat": 4,
 "nbformat_minor": 5
}